{
 "cells": [
  {
   "cell_type": "markdown",
   "metadata": {},
   "source": [
    "제목 1\n",
    "=======\n",
    "\n",
    "부제목\n",
    "------\n",
    "\n",
    "# h1\n",
    "### h3\n",
    "###### h6\n",
    "\n",
    "\n",
    "> content1 \n",
    ">   > content2\n",
    ">   >   >content3"
   ]
  },
  {
   "cell_type": "markdown",
   "metadata": {},
   "source": [
    "## list \n",
    "\n",
    "1. 첫번째 \n",
    "2. 두번째\n",
    "3. 세번째 \n",
    "\n",
    "\n",
    "* 리스트1\n",
    "*       리스트2\n",
    "\n",
    "* 리스트3"
   ]
  },
  {
   "cell_type": "markdown",
   "metadata": {},
   "source": [
    "### COde \n",
    "\n",
    "```python\n",
    "i = 0\n",
    "i + 1\n",
    "print(i)\n",
    "\n",
    "``` \n",
    "code end"
   ]
  },
  {
   "cell_type": "markdown",
   "metadata": {},
   "source": [
    "---------------------"
   ]
  },
  {
   "cell_type": "markdown",
   "metadata": {},
   "source": [
    "*************************\n"
   ]
  },
  {
   "cell_type": "markdown",
   "metadata": {},
   "source": [
    "[Google][googlelink]\n",
    "[googlelink]: https://www.google.com"
   ]
  },
  {
   "cell_type": "markdown",
   "metadata": {},
   "source": [
    "![Alt text](https://media.istockphoto.com/photos/arsenals-emirates-stadium-before-a-match-picture-id1049516344?k=20&m=1049516344&s=170667a&w=0&h=zBGj90qIonjvZt7z7OgDOap3aCkgqJYph8PnHN27Bm4=)\n",
    "\n",
    "\n",
    "<img src = \"https://media.istockphoto.com/photos/arsenals-emirates-stadium-before-a-match-picture-id1049516344?k=20&m=1049516344&s=170667a&w=0&h=zBGj90qIonjvZt7z7OgDOap3aCkgqJYph8PnHN27Bm4=\" width = \"50%\">"
   ]
  },
  {
   "cell_type": "markdown",
   "metadata": {},
   "source": []
  }
 ],
 "metadata": {
  "interpreter": {
   "hash": "0ee87c22717230d7360f41fb5469be86ff8d75539d2d14460a75a07054f60eec"
  },
  "kernelspec": {
   "display_name": "Python 3.10.2 64-bit",
   "language": "python",
   "name": "python3"
  },
  "language_info": {
   "name": "python",
   "version": "3.10.2"
  },
  "orig_nbformat": 4
 },
 "nbformat": 4,
 "nbformat_minor": 2
}
