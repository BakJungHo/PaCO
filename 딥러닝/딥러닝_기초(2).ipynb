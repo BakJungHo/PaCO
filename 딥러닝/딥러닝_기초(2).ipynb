{
  "nbformat": 4,
  "nbformat_minor": 0,
  "metadata": {
    "colab": {
      "name": "딥러닝_기초(2).ipynb",
      "provenance": [],
      "collapsed_sections": [],
      "authorship_tag": "ABX9TyNfo7Um2n4Jke42Q3YVFwoH",
      "include_colab_link": true
    },
    "kernelspec": {
      "name": "python3",
      "display_name": "Python 3"
    },
    "language_info": {
      "name": "python"
    }
  },
  "cells": [
    {
      "cell_type": "markdown",
      "metadata": {
        "id": "view-in-github",
        "colab_type": "text"
      },
      "source": [
        "<a href=\"https://colab.research.google.com/github/BakJungHo/PaCO/blob/main/%EB%94%A5%EB%9F%AC%EB%8B%9D/%EB%94%A5%EB%9F%AC%EB%8B%9D_%EA%B8%B0%EC%B4%88(2).ipynb\" target=\"_parent\"><img src=\"https://colab.research.google.com/assets/colab-badge.svg\" alt=\"Open In Colab\"/></a>"
      ]
    },
    {
      "cell_type": "markdown",
      "source": [
        "4.오차수정하기 : 경사하강법\n",
        "==="
      ],
      "metadata": {
        "id": "RTwqCgjP0OOv"
      }
    },
    {
      "cell_type": "code",
      "source": [
        "import numpy as np\n",
        "import pandas as pd\n",
        "import matplotlib.pyplot as plt"
      ],
      "metadata": {
        "id": "YR7OQQfp0xpc"
      },
      "execution_count": 172,
      "outputs": []
    },
    {
      "cell_type": "code",
      "execution_count": 173,
      "metadata": {
        "colab": {
          "base_uri": "https://localhost:8080/",
          "height": 320
        },
        "id": "wI-FQVycrRei",
        "outputId": "85b14af6-b96a-4381-f5ba-6867031e275a"
      },
      "outputs": [
        {
          "output_type": "display_data",
          "data": {
            "text/plain": [
              "<Figure size 576x360 with 1 Axes>"
            ],
            "image/png": "[encoded data removed]"
          },
          "metadata": {
            "needs_background": "light"
          }
        }
      ],
      "source": [
        "# 공부시간 x와 성적 y의 리시트를 만듭니다.\n",
        "data = [[2,81], [4,93], [6,91], [8,97]]\n",
        "x = [i[0] for i in data]\n",
        "y = [i[1] for i in data]\n",
        "\n",
        "# 그래프로 나타내 봅니다.\n",
        "plt. figure(figsize = (8,5))\n",
        "plt.scatter(x,y)\n",
        "plt.show()"
      ]
    },
    {
      "cell_type": "code",
      "source": [
        "# 리스트로 되어 있는 x와 y값을 넘파이 배열로 바꾸어 줍니다. (인덱스를 주어 하나씩 불러와 계산이 가능해 지도록 하기 위함입니다.)\n",
        "x_data = np.array(x)\n",
        "y_data = np.array(y)\n",
        "\n",
        "# 기울기 a와 절편 b의 값을 초기화합니다.\n",
        "a = 0\n",
        "b = 0\n",
        "\n",
        "# 학습률을 정합니다.\n",
        "lr = 0.03  \n",
        "\n",
        "# 몇 번 반복할지를 설정합니다.\n",
        "epochs = 2001  # 오차 수정(경사하강법) 횟수"
      ],
      "metadata": {
        "id": "qmMTHxIT0vLB"
      },
      "execution_count": 174,
      "outputs": []
    },
    {
      "cell_type": "code",
      "source": [
        "# 경사 하강법을 시행\n",
        "for i in range(epochs):  # epoch 수 만큼 반복\n",
        "  y_hat = a * x_data + b  # y를 구하는 식을 세웁니다.\n",
        "  error = y_data - y_hat   # 오차를 구하는 식입니다.\n",
        "  a_diff = -(2/len(x_data)) * sum(x_data * (error))   # 오차함수를 a로 미분한 값입니다.\n",
        "  b_diff = -(2/len(x_data)) * sum(error)   # 오차함수를 b로 미분한 값입니다.\n",
        "  a = a - lr * a_diff   # 학습률을 곱해 기존의 a값을 업데이트합니다.\n",
        "  b = b - lr * b_diff   # 학습률을 곱해 기존의 b값을 업데이트합니다.\n",
        "  if i % 100 == 0:   # 100번 반복될 때마다 현재의 a값, b값을 출력합니다.\n",
        "    print('epoch = %.f, 기울기 = %.04f, 절편 = %.04f'% (i,a,b))"
      ],
      "metadata": {
        "colab": {
          "base_uri": "https://localhost:8080/"
        },
        "id": "G4eaHcHm1Vzs",
        "outputId": "7ea5be1e-9a12-4408-8875-3a2ec7974983"
      },
      "execution_count": 175,
      "outputs": [
        {
          "output_type": "stream",
          "name": "stdout",
          "text": [
            "epoch = 0, 기울기 = 27.8400, 절편 = 5.4300\n",
            "epoch = 100, 기울기 = 7.0739, 절편 = 50.5117\n",
            "epoch = 200, 기울기 = 4.0960, 절편 = 68.2822\n",
            "epoch = 300, 기울기 = 2.9757, 절편 = 74.9678\n",
            "epoch = 400, 기울기 = 2.5542, 절편 = 77.4830\n",
            "epoch = 500, 기울기 = 2.3956, 절편 = 78.4293\n",
            "epoch = 600, 기울기 = 2.3360, 절편 = 78.7853\n",
            "epoch = 700, 기울기 = 2.3135, 절편 = 78.9192\n",
            "epoch = 800, 기울기 = 2.3051, 절편 = 78.9696\n",
            "epoch = 900, 기울기 = 2.3019, 절편 = 78.9886\n",
            "epoch = 1000, 기울기 = 2.3007, 절편 = 78.9957\n",
            "epoch = 1100, 기울기 = 2.3003, 절편 = 78.9984\n",
            "epoch = 1200, 기울기 = 2.3001, 절편 = 78.9994\n",
            "epoch = 1300, 기울기 = 2.3000, 절편 = 78.9998\n",
            "epoch = 1400, 기울기 = 2.3000, 절편 = 78.9999\n",
            "epoch = 1500, 기울기 = 2.3000, 절편 = 79.0000\n",
            "epoch = 1600, 기울기 = 2.3000, 절편 = 79.0000\n",
            "epoch = 1700, 기울기 = 2.3000, 절편 = 79.0000\n",
            "epoch = 1800, 기울기 = 2.3000, 절편 = 79.0000\n",
            "epoch = 1900, 기울기 = 2.3000, 절편 = 79.0000\n",
            "epoch = 2000, 기울기 = 2.3000, 절편 = 79.0000\n"
          ]
        }
      ]
    },
    {
      "cell_type": "markdown",
      "source": [
        "> 경사하강법 실행 결과(학습률 = 0.03, epochs = 2001) / 기울기 a = 2.3, y절편 b =79로 수렴하였다."
      ],
      "metadata": {
        "id": "Iypa_n1n2dkO"
      }
    },
    {
      "cell_type": "code",
      "source": [
        "# 앞서 구한 기울기와 절편을 이용해 그래프를 그려봅니다.\n",
        "y_pred = a * x_data + b\n",
        "plt.scatter(x,y)\n",
        "plt.plot([min(x_data), max(x_data)], [min(y_pred), max(y_pred)])\n",
        "plt.xlabel('공부한 시간 x')\n",
        "plt.ylabel('성적 y')\n",
        "plt.show()"
      ],
      "metadata": {
        "colab": {
          "base_uri": "https://localhost:8080/",
          "height": 787
        },
        "id": "gVYhOQaM2XbO",
        "outputId": "ee26d117-2a94-4458-e602-dc9bde0c4dc5"
      },
      "execution_count": 176,
      "outputs": [
        {
          "output_type": "stream",
          "name": "stderr",
          "text": [
            "/usr/local/lib/python3.7/dist-packages/matplotlib/backends/backend_agg.py:214: RuntimeWarning: Glyph 44277 missing from current font.\n",
            "  font.set_text(s, 0.0, flags=flags)\n",
            "/usr/local/lib/python3.7/dist-packages/matplotlib/backends/backend_agg.py:214: RuntimeWarning: Glyph 48512 missing from current font.\n",
            "  font.set_text(s, 0.0, flags=flags)\n",
            "/usr/local/lib/python3.7/dist-packages/matplotlib/backends/backend_agg.py:214: RuntimeWarning: Glyph 54620 missing from current font.\n",
            "  font.set_text(s, 0.0, flags=flags)\n",
            "/usr/local/lib/python3.7/dist-packages/matplotlib/backends/backend_agg.py:214: RuntimeWarning: Glyph 49884 missing from current font.\n",
            "  font.set_text(s, 0.0, flags=flags)\n",
            "/usr/local/lib/python3.7/dist-packages/matplotlib/backends/backend_agg.py:214: RuntimeWarning: Glyph 44036 missing from current font.\n",
            "  font.set_text(s, 0.0, flags=flags)\n",
            "/usr/local/lib/python3.7/dist-packages/matplotlib/backends/backend_agg.py:214: RuntimeWarning: Glyph 49457 missing from current font.\n",
            "  font.set_text(s, 0.0, flags=flags)\n",
            "/usr/local/lib/python3.7/dist-packages/matplotlib/backends/backend_agg.py:214: RuntimeWarning: Glyph 51201 missing from current font.\n",
            "  font.set_text(s, 0.0, flags=flags)\n",
            "/usr/local/lib/python3.7/dist-packages/matplotlib/backends/backend_agg.py:183: RuntimeWarning: Glyph 44277 missing from current font.\n",
            "  font.set_text(s, 0, flags=flags)\n",
            "/usr/local/lib/python3.7/dist-packages/matplotlib/backends/backend_agg.py:183: RuntimeWarning: Glyph 48512 missing from current font.\n",
            "  font.set_text(s, 0, flags=flags)\n",
            "/usr/local/lib/python3.7/dist-packages/matplotlib/backends/backend_agg.py:183: RuntimeWarning: Glyph 54620 missing from current font.\n",
            "  font.set_text(s, 0, flags=flags)\n",
            "/usr/local/lib/python3.7/dist-packages/matplotlib/backends/backend_agg.py:183: RuntimeWarning: Glyph 49884 missing from current font.\n",
            "  font.set_text(s, 0, flags=flags)\n",
            "/usr/local/lib/python3.7/dist-packages/matplotlib/backends/backend_agg.py:183: RuntimeWarning: Glyph 44036 missing from current font.\n",
            "  font.set_text(s, 0, flags=flags)\n",
            "/usr/local/lib/python3.7/dist-packages/matplotlib/backends/backend_agg.py:183: RuntimeWarning: Glyph 49457 missing from current font.\n",
            "  font.set_text(s, 0, flags=flags)\n",
            "/usr/local/lib/python3.7/dist-packages/matplotlib/backends/backend_agg.py:183: RuntimeWarning: Glyph 51201 missing from current font.\n",
            "  font.set_text(s, 0, flags=flags)\n"
          ]
        },
        {
          "output_type": "display_data",
          "data": {
            "text/plain": [
              "<Figure size 432x288 with 1 Axes>"
            ],
            "image/png": "[encoded data removed]"
          },
          "metadata": {
            "needs_background": "light"
          }
        }
      ]
    },
    {
      "cell_type": "markdown",
      "source": [
        "#### y = 2.3x + 79"
      ],
      "metadata": {
        "id": "42u7StobAah4"
      }
    },
    {
      "cell_type": "code",
      "source": [
        "import numpy as np\n",
        "import matplotlib.pyplot as plt\n",
        "%matplotlib inline"
      ],
      "metadata": {
        "id": "nWtjPXj8AW6i"
      },
      "execution_count": 177,
      "outputs": []
    },
    {
      "cell_type": "code",
      "source": [
        "np. random.seed(0)\n",
        "\n",
        "# y = 4X + 6 식을 근사(w1=4, w0 = 6), random값은 Noise를 위해 만듦\n",
        "X = 2 * np.random.rand(100,1)\n",
        "y = 6 + 4 * X + np.random.randn(100,1)\n",
        "\n",
        "# X, y 데이터 셋 scatter plot으로 시각화\n",
        "plt.scatter(X,y)"
      ],
      "metadata": {
        "colab": {
          "base_uri": "https://localhost:8080/",
          "height": 283
        },
        "id": "WNyhA2DjCkjV",
        "outputId": "7a613db8-85ba-4943-f76e-7212b1f42e43"
      },
      "execution_count": 178,
      "outputs": [
        {
          "output_type": "execute_result",
          "data": {
            "text/plain": [
              "<matplotlib.collections.PathCollection at 0x7f6139f43c90>"
            ]
          },
          "metadata": {},
          "execution_count": 178
        },
        {
          "output_type": "display_data",
          "data": {
            "text/plain": [
              "<Figure size 432x288 with 1 Axes>"
            ],
            "image/png": "[encoded data removed]"
          },
          "metadata": {
            "needs_background": "light"
          }
        }
      ]
    },
    {
      "cell_type": "code",
      "source": [
        "X.shape, y.shape"
      ],
      "metadata": {
        "colab": {
          "base_uri": "https://localhost:8080/"
        },
        "id": "IG1KSskrC_ny",
        "outputId": "35be86e2-3df3-4dea-c510-7902de235259"
      },
      "execution_count": 179,
      "outputs": [
        {
          "output_type": "execute_result",
          "data": {
            "text/plain": [
              "((100, 1), (100, 1))"
            ]
          },
          "metadata": {},
          "execution_count": 179
        }
      ]
    },
    {
      "cell_type": "markdown",
      "source": [
        "> #### w0와 w1의 값을 최소화 할 수 있도록 업데이트 수행하는 함수 생성 \n",
        "\n",
        "* 예측 배열 y_pred는 np.dot(X, w1.T) + w0임 100개의 데이터 X(1,2,...,100)이 있다면 예측값은 w0 + X(1)*w1 + X(2)*w1 + ... + X(100)*w1이며, 이는 입력 배열 X와 w1 배열의 내적임.\n",
        "* 새로운 w1과 w0를 update함."
      ],
      "metadata": {
        "id": "plm5G03EgEuA"
      }
    },
    {
      "cell_type": "code",
      "source": [
        "# w1과 w0를 업데이트 할 w1_update, w0_update를 반환. \n",
        "def get_weight_updates(w1, w0, X, y, learning_rate=0.01):\n",
        "  N=len(y)\n",
        "\n",
        "  # 먼저 w1_update, w0_update를 각각 w1, w0의 shape와 동일한 크기를 가진 0값으로 초기화\n",
        "  w1_update = np.zeros_like(w1)\n",
        "  w0_update = np.zeros_like(w0)\n",
        "\n",
        "  # 예측 배열 계산하고 예측과 실제 값의 차이 계산\n",
        "  y_pred = np.dot(X,w1.T) + w0 \n",
        "  diff = y-y_pred  \n",
        "\n",
        "  # w0_update를 dot 행렬 연산으로 구하기 위해 모두 1값을 가진 행렬 생성\n",
        "  w0_factors = np.ones((N,1))\n",
        "\n",
        "  # w1과 w0을 업데이트 할 w1_update와 w0_update 계산\n",
        "  w1_update = -(2/N) * learning_rate * (np.dot(X.T, diff))\n",
        "  w0_update = -(2/N) * learning_rate * (np.dot(w0_factors.T, diff))\n",
        "\n",
        "  return w1_update, w0_update"
      ],
      "metadata": {
        "id": "RKtm8WlFDDmD"
      },
      "execution_count": 180,
      "outputs": []
    },
    {
      "cell_type": "code",
      "source": [
        "w0 = np.zeros((1,1))\n",
        "w1 = np.zeros((1,1))\n",
        "y_pred = np.dot(X, w1.T) + w0\n",
        "diff = y-y_pred\n",
        "\n",
        "print(diff.shape)"
      ],
      "metadata": {
        "colab": {
          "base_uri": "https://localhost:8080/"
        },
        "id": "vTYNiNBEEffP",
        "outputId": "31550b8e-5227-4da6-a893-b174f388139f"
      },
      "execution_count": 181,
      "outputs": [
        {
          "output_type": "stream",
          "name": "stdout",
          "text": [
            "(100, 1)\n"
          ]
        }
      ]
    },
    {
      "cell_type": "code",
      "source": [
        "w0_factors = np.ones((100,1))\n",
        "w1_update = -(2/100) * 0.01 * (np.dot(X.T, diff))\n",
        "w0_update = -(2/100) * 0.01 * (np.dot(w0_factors.T, diff))\n",
        "\n",
        "print(w1_update.shape, w0_update.shape)\n",
        "\n",
        "w1,w0"
      ],
      "metadata": {
        "colab": {
          "base_uri": "https://localhost:8080/"
        },
        "id": "ZG6GazN3arBp",
        "outputId": "00f20339-108d-4c62-e874-0e4455e26b1b"
      },
      "execution_count": 182,
      "outputs": [
        {
          "output_type": "stream",
          "name": "stdout",
          "text": [
            "(1, 1) (1, 1)\n"
          ]
        },
        {
          "output_type": "execute_result",
          "data": {
            "text/plain": [
              "(array([[0.]]), array([[0.]]))"
            ]
          },
          "metadata": {},
          "execution_count": 182
        }
      ]
    },
    {
      "cell_type": "markdown",
      "source": [
        "> 반복적으로 경사 하강법을 이용하여 get_weight_updates()를 호출하여 w1과 w0를 업데이트를 하는 함수 생성"
      ],
      "metadata": {
        "id": "Atkoe7dOFMsm"
      }
    },
    {
      "cell_type": "code",
      "source": [
        "# 입력 인자 iters로 주어진 횟수만큼 반복적으로 w1과 w0를 업데이트 적용함.\n",
        "def gradient_descent_steps(X, y, iters=10000) :\n",
        "    # w0와 w1을 모두 0으로 초기화.\n",
        "    w0 = np.zeros((1,1))\n",
        "    w1 = np.zeros((1,1))\n",
        "\n",
        "    # 인자로 주어진 iters 만큼 반복적으로 get_weight_updates() 호출하여 w1, w0 업데이트 수행\n",
        "    for ind in tqdm(range(iters)) :\n",
        "        w1_update, w0_update = get_weight_updates(w1, w0, X, y, learning_rate=0.01)\n",
        "        w1 = w1 - w1_update\n",
        "        w0 = w0 - w0_update\n",
        "    \n",
        "    return w1, w0"
      ],
      "metadata": {
        "id": "M7_G8CDZb7qF"
      },
      "execution_count": 183,
      "outputs": []
    },
    {
      "cell_type": "markdown",
      "source": [
        "> 예측 오차 비용을 계산을 수행하는 함수 생성 및 경사 하강법 수행"
      ],
      "metadata": {
        "id": "VhjPuPF0GdO7"
      }
    },
    {
      "cell_type": "code",
      "source": [
        "def get_cost(y, y_pred) :\n",
        "    N = len(y)\n",
        "    cost = np.sum(np.square(y - y_pred))/N\n",
        "    return cost\n",
        "\n",
        "w1, w0 = gradient_descent_steps(X, y, iters=1000)\n",
        "print(f\"w1:{w1[0,0]:.3f}, w0:{w0[0,0]:.3f}\")\n",
        "y_pred = w1[0,0] * X + w0\n",
        "print(f\"Gradient Descent Total Cost : {get_cost(y, y_pred):.4f}\")"
      ],
      "metadata": {
        "colab": {
          "base_uri": "https://localhost:8080/"
        },
        "id": "qfaldZpRZBh3",
        "outputId": "b4b4ed12-4537-4ce9-fcc4-6f2b534618c3"
      },
      "execution_count": 185,
      "outputs": [
        {
          "output_type": "stream",
          "name": "stderr",
          "text": [
            "100%|██████████| 1000/1000 [00:00<00:00, 34875.23it/s]"
          ]
        },
        {
          "output_type": "stream",
          "name": "stdout",
          "text": [
            "w1:4.022, w0:6.162\n",
            "Gradient Descent Total Cost : 0.9935\n"
          ]
        },
        {
          "output_type": "stream",
          "name": "stderr",
          "text": [
            "\n"
          ]
        }
      ]
    },
    {
      "cell_type": "code",
      "source": [
        "plt.scatter(X,y)\n",
        "plt.plot(X, y_pred)"
      ],
      "metadata": {
        "colab": {
          "base_uri": "https://localhost:8080/",
          "height": 283
        },
        "id": "eNUsuIJeHLTO",
        "outputId": "8466fe70-a387-4563-9383-33a3ffc56d07"
      },
      "execution_count": 186,
      "outputs": [
        {
          "output_type": "execute_result",
          "data": {
            "text/plain": [
              "[<matplotlib.lines.Line2D at 0x7f6139a3d410>]"
            ]
          },
          "metadata": {},
          "execution_count": 186
        },
        {
          "output_type": "display_data",
          "data": {
            "text/plain": [
              "<Figure size 432x288 with 1 Axes>"
            ],
            "image/png": "[encoded data removed]"
          },
          "metadata": {
            "needs_background": "light"
          }
        }
      ]
    },
    {
      "cell_type": "code",
      "source": [
        "def stochastic_gradient_descent_steps(X,y, batch_size=10, iters = 1000):\n",
        "  w0 = np.zeros((1,1))\n",
        "  w1 = np.zeros((1,1))\n",
        "  prev_cost = 100000\n",
        "  iter_index = 0\n",
        "\n",
        "  for ind in range(iters):\n",
        "    np.random.seed(ind)\n",
        "    # 전체 X,y 데이터에서 랜덤하게 batch_size만큼 데이터 추출하여 sample_X, sample_y로 저장\n",
        "    stochastic_random_index = np.random.permutation(X.shape[0])\n",
        "    sample_X = X[stochastic_random_index[0:batch_size]]\n",
        "    sample_y = y[stochastic_random_index[0:batch_size]]\n",
        "    \n",
        "    # 랜덤하게 batch_size만큼 추출된 데이터 기반으로 w1_update, w0_update 계산 후 업데이트\n",
        "    w1_update, w0_update = get_weight_updates(w1, w0, sample_X, sample_y, learning_rate = 0.01)\n",
        "    w1 = w1-w1_update\n",
        "    w0 = w0-w0_update\n",
        "  return w1, w0"
      ],
      "metadata": {
        "id": "8jgFMbAeg7qi"
      },
      "execution_count": 190,
      "outputs": []
    },
    {
      "cell_type": "code",
      "source": [
        "w1, w0 = stochastic_gradient_descent_steps(X, y, iters=1000)\n",
        "print('w1:',round(w1[0,0],3), 'w0:',round(w0[0,0],3))\n",
        "y_pred = w1[0,0] * X +w0\n",
        "\n",
        "print('Stochastic Gradient Descent Total Cost: {0:.4f}'.format(get_cost(y, y_pred)))"
      ],
      "metadata": {
        "colab": {
          "base_uri": "https://localhost:8080/"
        },
        "id": "dNiaYpH9iGbl",
        "outputId": "fd7a35ed-1b0f-451c-e68d-d230d0b1764b"
      },
      "execution_count": 192,
      "outputs": [
        {
          "output_type": "stream",
          "name": "stdout",
          "text": [
            "w1: 4.028 w0: 6.156\n",
            "Stochastic Gradient Descent Total Cost: 0.9937\n"
          ]
        }
      ]
    },
    {
      "cell_type": "markdown",
      "source": [
        ">더욱 정확한 예측을 위해 추가 정보를 입력해야 한다. \n",
        "\n",
        ">정보를 추가해 새로운 예측값을 구하려면 변수의 개수를 늘려 다중선형회귀를 만들어주어야 한다."
      ],
      "metadata": {
        "id": "oveP6evBjLQH"
      }
    },
    {
      "cell_type": "code",
      "source": [
        "import numpy as np\n",
        "import pandas as pd\n",
        "import matplotlib.pyplot as plt\n",
        "from mpl_toolkits import mplot3d"
      ],
      "metadata": {
        "id": "gLN8-FgBigR_"
      },
      "execution_count": 193,
      "outputs": []
    },
    {
      "cell_type": "code",
      "source": [
        "# 공부시간 x와 성적 y의 리스트를 만든다. \n",
        "data = [[2,0,81], [4,4,93], [6,2,91], [8,3,97]]\n",
        "x1 = [i[0] for i in data]\n",
        "x2 = [i[1] for i in data]\n",
        "y = [i[2] for i in data]\n",
        "\n",
        "# 그래프로 확인해 봅니다.\n",
        "ax = plt.axes(projection = '3d')\n",
        "ax.set_xlabel('study_hours')\n",
        "ax.set_ylabel('private_class')\n",
        "ax.set_zlabel('Score')\n",
        "\n",
        "ax.dist =11 \n",
        "ax.scatter(x1,x2,y)\n",
        "plt.show()"
      ],
      "metadata": {
        "colab": {
          "base_uri": "https://localhost:8080/",
          "height": 248
        },
        "id": "biJoX6XCjnWQ",
        "outputId": "a57d8ac8-7706-49b7-9b30-0fcca973ce90"
      },
      "execution_count": 194,
      "outputs": [
        {
          "output_type": "display_data",
          "data": {
            "text/plain": [
              "<Figure size 432x288 with 1 Axes>"
            ],
            "image/png": "[encoded data removed]"
          },
          "metadata": {
            "needs_background": "light"
          }
        }
      ]
    },
    {
      "cell_type": "code",
      "source": [
        "# 리스트로 되어 있는 x와 y값을 넘파이 배열로 바꾸어 줍니다. (인덱스를 주어 하나씩 불러와 계산이 가능해 지도록 하기 위해)\n",
        "x1_data = np.array(x1)\n",
        "x2_data = np.array(x2)\n",
        "y_data = np.array(y)\n",
        "\n",
        "# 기울기 a와 절편 b의 값을 초기화 합니다.\n",
        "a1 = 0\n",
        "a2 = 0\n",
        "b = 0\n",
        "\n",
        "# 학습률을 정합니다.\n",
        "lr = 0.02\n",
        "\n",
        "# 몇 번 반복할지를 설정합니다. (0부터 세므로 원하는 반복 횟수에 +1을 해주어야 한다.)\n",
        "epochs = 2001"
      ],
      "metadata": {
        "id": "hPSYRWxXkItn"
      },
      "execution_count": 195,
      "outputs": []
    },
    {
      "cell_type": "code",
      "source": [
        "# 경사하강법을 시행합니다.\n",
        "\n",
        "for i in range(epochs): # epochs 수 만큼 반복\n",
        "  y_pred = a1 * x1_data + a2 * x2_data + b   # y를 구하는 식을 세웁니다.\n",
        "  error = y_data - y_pred  # 오차를 구하는 식입니다.\n",
        "  a1_diff = -(2/len(x1_data))  * sum(x1_data * (error)) # 오차함수를 a1로 미분한 값입니다.\n",
        "  a2_diff = -(2/len(x2_data))  * sum(x2_data * (error)) # 오차함수를 a2로 미분한 값입니다.\n",
        "  b_new = -(2/len(x1_data))  * sum(y_data - y_pred) # 오차함수를 b로 미분한 값입니다.\n",
        "  a1 = a1-lr * a1_diff  # 학습률을 곱해 기존의 a1값을 업데이트 합니다.\n",
        "  a2 = a2-lr * a2_diff  # 학습률을 곱해 기존의 a2값을 업데이트 합니다.\n",
        "  b = b - lr * b_new  # 학습률을 곱해 기존의 b값을 업데이트합니다. \n",
        "  if i % 100 == 0:  # 100번 반복될 때마다 현재의 a1, a2, b값을 출력합니다.\n",
        "    print('epochs=%.f, 기울기1 = %.04f, 기울기2 = %.04f, 절편 = %.04f' % (i,a1,a2,b))"
      ],
      "metadata": {
        "colab": {
          "base_uri": "https://localhost:8080/"
        },
        "id": "R9xH04tUkqri",
        "outputId": "e2258b24-6bdb-404b-9846-7a53e9414fcf"
      },
      "execution_count": 197,
      "outputs": [
        {
          "output_type": "stream",
          "name": "stdout",
          "text": [
            "epochs=0, 기울기1 = 1.5000, 기울기2 = 2.2857, 절편 = 77.8569\n",
            "epochs=100, 기울기1 = 1.5000, 기울기2 = 2.2857, 절편 = 77.8570\n",
            "epochs=200, 기울기1 = 1.5000, 기울기2 = 2.2857, 절편 = 77.8571\n",
            "epochs=300, 기울기1 = 1.5000, 기울기2 = 2.2857, 절편 = 77.8571\n",
            "epochs=400, 기울기1 = 1.5000, 기울기2 = 2.2857, 절편 = 77.8571\n",
            "epochs=500, 기울기1 = 1.5000, 기울기2 = 2.2857, 절편 = 77.8571\n",
            "epochs=600, 기울기1 = 1.5000, 기울기2 = 2.2857, 절편 = 77.8571\n",
            "epochs=700, 기울기1 = 1.5000, 기울기2 = 2.2857, 절편 = 77.8571\n",
            "epochs=800, 기울기1 = 1.5000, 기울기2 = 2.2857, 절편 = 77.8571\n",
            "epochs=900, 기울기1 = 1.5000, 기울기2 = 2.2857, 절편 = 77.8571\n",
            "epochs=1000, 기울기1 = 1.5000, 기울기2 = 2.2857, 절편 = 77.8571\n",
            "epochs=1100, 기울기1 = 1.5000, 기울기2 = 2.2857, 절편 = 77.8571\n",
            "epochs=1200, 기울기1 = 1.5000, 기울기2 = 2.2857, 절편 = 77.8571\n",
            "epochs=1300, 기울기1 = 1.5000, 기울기2 = 2.2857, 절편 = 77.8571\n",
            "epochs=1400, 기울기1 = 1.5000, 기울기2 = 2.2857, 절편 = 77.8571\n",
            "epochs=1500, 기울기1 = 1.5000, 기울기2 = 2.2857, 절편 = 77.8571\n",
            "epochs=1600, 기울기1 = 1.5000, 기울기2 = 2.2857, 절편 = 77.8571\n",
            "epochs=1700, 기울기1 = 1.5000, 기울기2 = 2.2857, 절편 = 77.8571\n",
            "epochs=1800, 기울기1 = 1.5000, 기울기2 = 2.2857, 절편 = 77.8571\n",
            "epochs=1900, 기울기1 = 1.5000, 기울기2 = 2.2857, 절편 = 77.8571\n",
            "epochs=2000, 기울기1 = 1.5000, 기울기2 = 2.2857, 절편 = 77.8571\n"
          ]
        }
      ]
    },
    {
      "cell_type": "markdown",
      "source": [
        "> 경사하강법 실행 결과 (학습률 = 0.02, epochs = 2001) \n",
        ">>기울기 a1= 1.5, 기울기a2 =2.2857, y절편 b = 77.8569로 수렴하였다."
      ],
      "metadata": {
        "id": "knpGa8Cpl497"
      }
    },
    {
      "cell_type": "markdown",
      "source": [
        "5.참, 거짓 판단 장치: 로지스틱 회귀\n",
        "=="
      ],
      "metadata": {
        "id": "Xl_7st_eoMu1"
      }
    },
    {
      "cell_type": "code",
      "source": [
        "import numpy as np\n",
        "import pandas as pd\n",
        "import matplotlib.pyplot as plt"
      ],
      "metadata": {
        "id": "nllJ8z_FoQiB"
      },
      "execution_count": 199,
      "outputs": []
    },
    {
      "cell_type": "code",
      "source": [
        "# 공부시간 x와 성적 y의 리스트를 만듭니다.\n",
        "data = [[2,0], [4,0],[6,0],[8,1], [10,1], [12,1], [14,1]]\n",
        "\n",
        "x_data = [i[0] for i in data]\n",
        "y_data = [i[1] for i in data]\n",
        "\n",
        "# 그래프로 나타내봅니다.\n",
        "plt.scatter(x_data, y_data)\n",
        "plt.xlim(0,15)\n",
        "plt.ylim(-.1, 1.1)"
      ],
      "metadata": {
        "colab": {
          "base_uri": "https://localhost:8080/",
          "height": 283
        },
        "id": "ZbUz09eboZfJ",
        "outputId": "602b0cc6-f4ea-44d0-9648-213105467240"
      },
      "execution_count": 200,
      "outputs": [
        {
          "output_type": "execute_result",
          "data": {
            "text/plain": [
              "(-0.1, 1.1)"
            ]
          },
          "metadata": {},
          "execution_count": 200
        },
        {
          "output_type": "display_data",
          "data": {
            "text/plain": [
              "<Figure size 432x288 with 1 Axes>"
            ],
            "image/png": "[encoded data removed]"
          },
          "metadata": {
            "needs_background": "light"
          }
        }
      ]
    },
    {
      "cell_type": "code",
      "source": [
        "# 기울기 a와 절편 b의 값을 초기화합니다. \n",
        "a = 0\n",
        "b = 9\n",
        "\n",
        "# 학습률을 정합니다.\n",
        "lr = 0.05\n",
        "\n",
        "# 시그모이드 함수를 정의합니다.\n",
        "def sigmoid(x):\n",
        "  return 1 / (1 + np.e ** (-x))"
      ],
      "metadata": {
        "id": "obAiK3I7oyN8"
      },
      "execution_count": 201,
      "outputs": []
    },
    {
      "cell_type": "code",
      "source": [
        "# 경사 하강법을 시행합니다.\n",
        "for i in range(2001):\n",
        "  for x_data, y_data in data:\n",
        "    a_diff = x_data * (sigmoid(a*x_data + b) - y_data)\n",
        "    b_diff = sigmoid(a*x_data + b) - y_data\n",
        "    a = a - lr * a_diff\n",
        "    b = b - lr * b_diff\n",
        "\n",
        "    if i % 1000 == 0:  # 1000번 반복될 때마다 각 x_data값에 대한 현재의 a값, b값을 출력합니다.\n",
        "      print('epochs = %.f, 기울기 = %.04f, 절편 = %.04f' % (i,a,b))"
      ],
      "metadata": {
        "colab": {
          "base_uri": "https://localhost:8080/"
        },
        "id": "V8JeKsN5pS7h",
        "outputId": "46b15c05-ba22-43f9-8c37-a84747fc9f6a"
      },
      "execution_count": 202,
      "outputs": [
        {
          "output_type": "stream",
          "name": "stdout",
          "text": [
            "epochs = 0, 기울기 = -0.1000, 절편 = 8.9500\n",
            "epochs = 0, 기울기 = -0.2999, 절편 = 8.9000\n",
            "epochs = 0, 기울기 = -0.5997, 절편 = 8.8501\n",
            "epochs = 0, 기울기 = -0.5929, 절편 = 8.8509\n",
            "epochs = 0, 기울기 = -0.5673, 절편 = 8.8535\n",
            "epochs = 0, 기울기 = -0.4986, 절편 = 8.8592\n",
            "epochs = 0, 기울기 = -0.4058, 절편 = 8.8658\n",
            "epochs = 1000, 기울기 = 1.4342, 절편 = -9.4644\n",
            "epochs = 1000, 기울기 = 1.4295, 절편 = -9.4656\n",
            "epochs = 1000, 기울기 = 1.3421, 절편 = -9.4802\n",
            "epochs = 1000, 기울기 = 1.4307, 절편 = -9.4691\n",
            "epochs = 1000, 기울기 = 1.4346, 절편 = -9.4687\n",
            "epochs = 1000, 기울기 = 1.4349, 절편 = -9.4687\n",
            "epochs = 1000, 기울기 = 1.4349, 절편 = -9.4687\n",
            "epochs = 2000, 기울기 = 1.8683, 절편 = -12.6704\n",
            "epochs = 2000, 기울기 = 1.8672, 절편 = -12.6707\n",
            "epochs = 2000, 기울기 = 1.8110, 절편 = -12.6801\n",
            "epochs = 2000, 기울기 = 1.8673, 절편 = -12.6730\n",
            "epochs = 2000, 기울기 = 1.8686, 절편 = -12.6729\n",
            "epochs = 2000, 기울기 = 1.8686, 절편 = -12.6729\n",
            "epochs = 2000, 기울기 = 1.8686, 절편 = -12.6729\n"
          ]
        }
      ]
    },
    {
      "cell_type": "markdown",
      "source": [
        "> 경사하강법 실행 결과(학습률 = 0.05, epoch = 2001) \n",
        ">> 기울기 a = 1.9068, y절편 b = 12.9513으로 수렴하였다."
      ],
      "metadata": {
        "id": "mbeBzSeOp5PG"
      }
    }
  ]
}