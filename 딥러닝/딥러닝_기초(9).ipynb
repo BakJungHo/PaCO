{
  "nbformat": 4,
  "nbformat_minor": 0,
  "metadata": {
    "colab": {
      "name": "딥러닝_기초(9).ipynb",
      "provenance": [],
      "collapsed_sections": [],
      "authorship_tag": "ABX9TyOU/lP6YgV6FmclOotuyRSr",
      "include_colab_link": true
    },
    "kernelspec": {
      "name": "python3",
      "display_name": "Python 3"
    },
    "language_info": {
      "name": "python"
    },
    "accelerator": "GPU"
  },
  "cells": [
    {
      "cell_type": "markdown",
      "metadata": {
        "id": "view-in-github",
        "colab_type": "text"
      },
      "source": [
        "<a href=\"https://colab.research.google.com/github/BakJungHo/PaCO/blob/main/%EB%94%A5%EB%9F%AC%EB%8B%9D/%EB%94%A5%EB%9F%AC%EB%8B%9D_%EA%B8%B0%EC%B4%88(9).ipynb\" target=\"_parent\"><img src=\"https://colab.research.google.com/assets/colab-badge.svg\" alt=\"Open In Colab\"/></a>"
      ]
    },
    {
      "cell_type": "markdown",
      "source": [
        "17.시퀀스 배열로 다루는 순환 신경망(RNN)\n",
        "==\n",
        "1) LSTM을 이용한 로이터 뉴스 카테고리 분류하기\n",
        "--"
      ],
      "metadata": {
        "id": "q0sfbsgCe-_6"
      }
    },
    {
      "cell_type": "code",
      "execution_count": 12,
      "metadata": {
        "id": "0rxDYBuLeWaA"
      },
      "outputs": [],
      "source": [
        "# 로이터 뉴스 데이터셋 불러오기\n",
        "from keras.datasets import reuters\n",
        "from keras.models import Sequential\n",
        "from keras.layers import Dense, LSTM, Embedding\n",
        "from keras.preprocessing import sequence\n",
        "from keras.utils import np_utils\n",
        "\n",
        "import numpy as np\n",
        "import tensorflow as tf\n",
        "import matplotlib.pyplot as plt"
      ]
    },
    {
      "cell_type": "code",
      "source": [
        "# 불러온 데이터를 학습셋과 테스트셋으로 나누기\n",
        "(X_train, Y_train), (X_test, Y_test) = reuters.load_data(num_words=1000, test_split=0.2)  #num_words는 빈도가 1~1000에 해당하는 단어만 선택해서 불러오는 것\n",
        "\n",
        "# seed 값 설정\n",
        "seed = 0\n",
        "np.random.seed(seed)\n",
        "tf.random.set_seed(seed)"
      ],
      "metadata": {
        "id": "pCox64Klzqg9"
      },
      "execution_count": 14,
      "outputs": []
    },
    {
      "cell_type": "code",
      "source": [
        "# 데이터 확인하기\n",
        "category = np.max(Y_train) + 1\n",
        "print(category, '카테고리')\n",
        "print(len(X_train), '학습용 뉴스 기사')\n",
        "print(len(X_test), '테스트용 뉴스 기사')\n",
        "print(X_train[0])"
      ],
      "metadata": {
        "colab": {
          "base_uri": "https://localhost:8080/"
        },
        "id": "R5Yfvd1fz5-M",
        "outputId": "45641bd7-3b66-485e-e7b0-76778d069c65"
      },
      "execution_count": 15,
      "outputs": [
        {
          "output_type": "stream",
          "name": "stdout",
          "text": [
            "46 카테고리\n",
            "8982 학습용 뉴스 기사\n",
            "2246 테스트용 뉴스 기사\n",
            "[1, 2, 2, 8, 43, 10, 447, 5, 25, 207, 270, 5, 2, 111, 16, 369, 186, 90, 67, 7, 89, 5, 19, 102, 6, 19, 124, 15, 90, 67, 84, 22, 482, 26, 7, 48, 4, 49, 8, 864, 39, 209, 154, 6, 151, 6, 83, 11, 15, 22, 155, 11, 15, 7, 48, 9, 2, 2, 504, 6, 258, 6, 272, 11, 15, 22, 134, 44, 11, 15, 16, 8, 197, 2, 90, 67, 52, 29, 209, 30, 32, 132, 6, 109, 15, 17, 12]\n"
          ]
        }
      ]
    },
    {
      "cell_type": "code",
      "source": [
        "# 각 기사의 단어 수가 제각각 다르므로 단어의 숫자를 맞춰야 한다.\n",
        "# 데이터 전처리 함수인 sesquence를 이용한다.\n",
        "\n",
        "from keras.preprocessing import sequence \n",
        "\n",
        "# 데이터 전처리\n",
        "x_train = sequence.pad_sequences(X_train, maxlen = 100)   #maxlen = 100은 단어 수를 100개로 맞추라는 뜻\n",
        "x_test = sequence.pad_sequences(X_test, maxlen = 100)\n",
        "\n",
        "y_train = np_utils.to_categorical(Y_train)   # y데이터에 원핫 인코딩 처리를 하여 데이터 전처리 과정을 마침\n",
        "y_test = np_utils.to_categorical(Y_test)"
      ],
      "metadata": {
        "id": "HhN-WKoL0PFK"
      },
      "execution_count": 16,
      "outputs": []
    },
    {
      "cell_type": "code",
      "source": [
        "# 모델의 설정\n",
        "model = Sequential()\n",
        "model.add(Embedding(1000, 100))\n",
        "model.add(LSTM(100, activation = 'tanh'))\n",
        "model.add(Dense(46, activation = 'softmax'))"
      ],
      "metadata": {
        "id": "qTmNJMki0-1p"
      },
      "execution_count": 17,
      "outputs": []
    },
    {
      "cell_type": "markdown",
      "source": [
        "* Embedding 층은 데이터 전처리 과정을 통해 입력된 값을 받아 다음 층이 알아들을 수 있는 형태로 변환하는 역할을 함\n",
        "  * Embedding('불러온 단어의 총 개수', '기사당 단어 수') 형식으로 사용하며, 모델 설정 부분의 맨 처음에 있어야 함\n",
        "* LSTM은 RNN에서 기억 값에 대한 가중치를 제어함\n",
        "  * LSTM(기사당 단어수, 기타 옵션)의 형태로 적용됨\n",
        "  * LSTM의 활성화 함수로는 Tanh를 사용"
      ],
      "metadata": {
        "id": "7p2RBx1O2CoE"
      }
    },
    {
      "cell_type": "code",
      "source": [
        "# 모델의 컴파일\n",
        "model.compile(loss = 'categorical_crossentropy', \n",
        "              optimizer= 'adam', \n",
        "              metrics = ['accuracy'])\n",
        "\n",
        "# 모델의 실행\n",
        "history = model.fit(x_train, y_train, batch_size=100, epochs = 20, validation_data = (x_test, y_test))\n",
        "\n",
        "# 테스트 정확도 출력\n",
        "print('\\n Test Accuracy: %.4f' %(model.evaluate(x_test, y_test)[1]))"
      ],
      "metadata": {
        "colab": {
          "base_uri": "https://localhost:8080/"
        },
        "id": "1gTkvD3C2gUW",
        "outputId": "24f395d0-bb8f-4c41-8b91-94baeab98f57"
      },
      "execution_count": 18,
      "outputs": [
        {
          "output_type": "stream",
          "name": "stdout",
          "text": [
            "Epoch 1/20\n",
            "90/90 [==============================] - 3s 15ms/step - loss: 2.5635 - accuracy: 0.3656 - val_loss: 2.1692 - val_accuracy: 0.4884\n",
            "Epoch 2/20\n",
            "90/90 [==============================] - 1s 11ms/step - loss: 2.0427 - accuracy: 0.4948 - val_loss: 1.9861 - val_accuracy: 0.5151\n",
            "Epoch 3/20\n",
            "90/90 [==============================] - 1s 10ms/step - loss: 1.9685 - accuracy: 0.5137 - val_loss: 1.9034 - val_accuracy: 0.5267\n",
            "Epoch 4/20\n",
            "90/90 [==============================] - 1s 10ms/step - loss: 1.7905 - accuracy: 0.5500 - val_loss: 1.7254 - val_accuracy: 0.5717\n",
            "Epoch 5/20\n",
            "90/90 [==============================] - 1s 11ms/step - loss: 1.6505 - accuracy: 0.5762 - val_loss: 1.6731 - val_accuracy: 0.5815\n",
            "Epoch 6/20\n",
            "90/90 [==============================] - 1s 10ms/step - loss: 1.5866 - accuracy: 0.6018 - val_loss: 1.6172 - val_accuracy: 0.5935\n",
            "Epoch 7/20\n",
            "90/90 [==============================] - 1s 10ms/step - loss: 1.5329 - accuracy: 0.6259 - val_loss: 1.5565 - val_accuracy: 0.6184\n",
            "Epoch 8/20\n",
            "90/90 [==============================] - 1s 10ms/step - loss: 1.4306 - accuracy: 0.6505 - val_loss: 1.4778 - val_accuracy: 0.6371\n",
            "Epoch 9/20\n",
            "90/90 [==============================] - 1s 11ms/step - loss: 1.3366 - accuracy: 0.6690 - val_loss: 1.4876 - val_accuracy: 0.6327\n",
            "Epoch 10/20\n",
            "90/90 [==============================] - 1s 10ms/step - loss: 1.2927 - accuracy: 0.6737 - val_loss: 1.3962 - val_accuracy: 0.6465\n",
            "Epoch 11/20\n",
            "90/90 [==============================] - 1s 10ms/step - loss: 1.2293 - accuracy: 0.6915 - val_loss: 1.3833 - val_accuracy: 0.6647\n",
            "Epoch 12/20\n",
            "90/90 [==============================] - 1s 10ms/step - loss: 1.1490 - accuracy: 0.7119 - val_loss: 1.2832 - val_accuracy: 0.6754\n",
            "Epoch 13/20\n",
            "90/90 [==============================] - 1s 10ms/step - loss: 1.0896 - accuracy: 0.7244 - val_loss: 1.2960 - val_accuracy: 0.6750\n",
            "Epoch 14/20\n",
            "90/90 [==============================] - 1s 11ms/step - loss: 1.0336 - accuracy: 0.7403 - val_loss: 1.2763 - val_accuracy: 0.6772\n",
            "Epoch 15/20\n",
            "90/90 [==============================] - 1s 10ms/step - loss: 0.9844 - accuracy: 0.7552 - val_loss: 1.2051 - val_accuracy: 0.6861\n",
            "Epoch 16/20\n",
            "90/90 [==============================] - 1s 10ms/step - loss: 0.9385 - accuracy: 0.7622 - val_loss: 1.1869 - val_accuracy: 0.7053\n",
            "Epoch 17/20\n",
            "90/90 [==============================] - 1s 10ms/step - loss: 0.8995 - accuracy: 0.7751 - val_loss: 1.1902 - val_accuracy: 0.7004\n",
            "Epoch 18/20\n",
            "90/90 [==============================] - 1s 11ms/step - loss: 0.8644 - accuracy: 0.7797 - val_loss: 1.1611 - val_accuracy: 0.7075\n",
            "Epoch 19/20\n",
            "90/90 [==============================] - 1s 11ms/step - loss: 0.8269 - accuracy: 0.7918 - val_loss: 1.1750 - val_accuracy: 0.7128\n",
            "Epoch 20/20\n",
            "90/90 [==============================] - 1s 10ms/step - loss: 0.7969 - accuracy: 0.7975 - val_loss: 1.1884 - val_accuracy: 0.6941\n",
            "71/71 [==============================] - 0s 4ms/step - loss: 1.1884 - accuracy: 0.6941\n",
            "\n",
            " Test Accuracy: 0.6941\n"
          ]
        }
      ]
    },
    {
      "cell_type": "code",
      "source": [
        "# 테스트셋의 오차\n",
        "y_vloss = history.history['val_loss']\n",
        "\n",
        "# 학습셋의 오차\n",
        "y_loss = history.history['loss']\n",
        "\n",
        "# 그래프로 표현\n",
        "x_len = np.arange(len(y_loss))\n",
        "plt.plot(x_len, y_vloss, marker = '.', c = 'red', label = 'Testset_loss')\n",
        "plt.plot(x_len, y_loss, marker = '.', c = 'blue', label = 'Trainset_loss')\n",
        "\n",
        "# 그래프에 그리드를 주고 레이블을 표시\n",
        "plt.legend(loc = 'upper right')\n",
        "plt.grid()\n",
        "plt.xlabel('epoch')\n",
        "plt.ylabel('loss')\n",
        "plt.show()"
      ],
      "metadata": {
        "colab": {
          "base_uri": "https://localhost:8080/",
          "height": 279
        },
        "id": "x6uVbeV08mZq",
        "outputId": "2c19d8a1-c00f-495a-a634-d3277b9c074c"
      },
      "execution_count": 19,
      "outputs": [
        {
          "output_type": "display_data",
          "data": {
            "text/plain": [
              "<Figure size 432x288 with 1 Axes>"
            ],
            "image/png": "[encoded data removed]"
          },
          "metadata": {
            "needs_background": "light"
          }
        }
      ]
    }
  ]
}